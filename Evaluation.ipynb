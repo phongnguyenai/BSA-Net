{
 "cells": [
  {
   "cell_type": "code",
   "execution_count": 1,
   "id": "b1092e94-56a9-44d1-92ee-c13bb99c783f",
   "metadata": {},
   "outputs": [
    {
     "name": "stderr",
     "output_type": "stream",
     "text": [
      "/data/BSA/BSA/BSA_model.py:183: UserWarning: Creating a tensor from a list of numpy.ndarrays is extremely slow. Please consider converting the list to a single numpy.ndarray with numpy.array() before converting to a tensor. (Triggered internally at  ../torch/csrc/utils/tensor_new.cpp:201.)\n",
      "  points = torch.tensor(np.meshgrid(x, y), dtype=torch.float32)\n"
     ]
    },
    {
     "name": "stdout",
     "output_type": "stream",
     "text": [
      "Jupyter environment detected. Enabling Open3D WebVisualizer.\n",
      "[Open3D INFO] WebRTC GUI backend enabled.\n",
      "[Open3D INFO] WebRTCWindowSystem: HTTP handshake server disabled.\n"
     ]
    }
   ],
   "source": [
    "import torch\n",
    "import pickle\n",
    "import numpy as np\n",
    "from torch.utils.data import Dataset\n",
    "import torch.nn.functional as F\n",
    "from torch.nn import Sequential as Seq, Linear as Lin, ReLU, BatchNorm1d as BN\n",
    "from torch_geometric.nn import PointConv, fps, radius, global_max_pool\n",
    "from torch_geometric.data import DataLoader, Batch, Data\n",
    "from BSA_model import BSANet\n",
    "from chamfer_distance import ChamferDistance\n",
    "import open3d as o3d"
   ]
  },
  {
   "cell_type": "markdown",
   "id": "ea0fa13e-eec4-4297-8fa6-d07b3dc30032",
   "metadata": {},
   "source": [
    "# Load data"
   ]
  },
  {
   "cell_type": "code",
   "execution_count": 2,
   "id": "8df9aafc-0231-4f87-be8b-b377d79a7b2a",
   "metadata": {},
   "outputs": [],
   "source": [
    "class Dataset(Dataset):\n",
    "    def __init__(self, pc_in_file, pc_out_file, img_file, transform=None):\n",
    "        self.imgs = np.load(img_file)\n",
    "        self.pcs_in = np.load(pc_in_file)\n",
    "        self.pcs_out = np.load(pc_out_file)\n",
    "        self.transform = transform\n",
    "\n",
    "    def __len__(self):\n",
    "        return self.pcs_in.shape[0]\n",
    "\n",
    "    def __getitem__(self, idx):\n",
    "        if torch.is_tensor(idx):\n",
    "            idx = idx.tolist()\n",
    "        \n",
    "        img = self.imgs[idx]\n",
    "        img = torch.Tensor(img)\n",
    "        img = img.permute(2,0,1)\n",
    "        \n",
    "        pc_in = self.pcs_in[idx]\n",
    "        pc_in = torch.Tensor(pc_in)\n",
    "        pc_in = Data(pos=pc_in)\n",
    "        \n",
    "        pc_out = self.pcs_out[idx]\n",
    "        pc_out = torch.Tensor(pc_out)\n",
    "        pc_out = Data(pos=pc_out)\n",
    "        \n",
    "        sample = {\"pc_in\": pc_in, \"pc_out\": pc_out, 'img': img}\n",
    "\n",
    "        if self.transform:\n",
    "            sample = self.transform(sample)\n",
    "\n",
    "        return sample"
   ]
  },
  {
   "cell_type": "code",
   "execution_count": 3,
   "id": "bb5fd8b1-5d5e-46e0-9508-36902eaa1ac2",
   "metadata": {},
   "outputs": [],
   "source": [
    "with open('data.pickle', 'rb') as handle:\n",
    "    dataset = pickle.load(handle)"
   ]
  },
  {
   "cell_type": "code",
   "execution_count": 4,
   "id": "aab32a5a-1d09-45ff-bc2d-ac2455fa5a46",
   "metadata": {},
   "outputs": [
    {
     "name": "stderr",
     "output_type": "stream",
     "text": [
      "/opt/conda/lib/python3.7/site-packages/torch_geometric/deprecation.py:12: UserWarning: 'data.DataLoader' is deprecated, use 'loader.DataLoader' instead\n",
      "  warnings.warn(out)\n"
     ]
    }
   ],
   "source": [
    "test_set = dataset['test']\n",
    "batch_size = 4\n",
    "test_dataloader = DataLoader(test_set, batch_size=batch_size,\n",
    "                    shuffle=True)"
   ]
  },
  {
   "cell_type": "markdown",
   "id": "82b4a926-8dea-4daa-b18e-3a658fc787d6",
   "metadata": {},
   "source": [
    "# Cuda"
   ]
  },
  {
   "cell_type": "code",
   "execution_count": 5,
   "id": "ebb59626-d27f-4670-a9c8-6833b34164cb",
   "metadata": {},
   "outputs": [],
   "source": [
    "torch.cuda.empty_cache()\n",
    "device = torch.device('cuda' if torch.cuda.is_available() else 'cpu')"
   ]
  },
  {
   "cell_type": "markdown",
   "id": "a545ae96-cc75-4a51-a40f-b66f41ca62b3",
   "metadata": {},
   "source": [
    "# Load pre-trained model"
   ]
  },
  {
   "cell_type": "code",
   "execution_count": 9,
   "id": "22b7f101-7e70-4a9d-9b4e-5722c08d676c",
   "metadata": {},
   "outputs": [],
   "source": [
    "model = BSANet()\n",
    "model.load_state_dict(torch.load(\"trained/BSA-Net_2000_5.7170_5.6984.pt\"))\n",
    "model = model.to(device)\n",
    "criterion = ChamferDistance()"
   ]
  },
  {
   "cell_type": "markdown",
   "id": "036ac3bc-1487-42f7-a627-d9e9ea432959",
   "metadata": {},
   "source": [
    "# Evaluation"
   ]
  },
  {
   "cell_type": "code",
   "execution_count": 10,
   "id": "c0c04c13-c7d5-497e-aab1-435fc2e708ab",
   "metadata": {},
   "outputs": [],
   "source": [
    "def evaluation():\n",
    "    model.eval()\n",
    "    total_loss = 0\n",
    "    \n",
    "    for data in test_dataloader:      \n",
    "        pc_out = data['pc_out']\n",
    "        pc_out = pc_out.to(device)\n",
    "        \n",
    "        with torch.no_grad():\n",
    "            decoded = model(data)\n",
    "            dist1, dist2 = criterion(decoded.reshape(-1,2048,3), pc_out.pos.reshape(-1,2048,3))\n",
    "            loss = (torch.mean(dist1)) + (torch.mean(dist2))\n",
    "            total_loss += loss.item() * pc_out.num_graphs\n",
    "            \n",
    "    return total_loss/len(test_set)"
   ]
  },
  {
   "cell_type": "code",
   "execution_count": 11,
   "id": "8d6e0568-7bd8-46f3-985f-bc855357f62e",
   "metadata": {},
   "outputs": [
    {
     "data": {
      "text/plain": [
       "5.7249289258321125"
      ]
     },
     "execution_count": 11,
     "metadata": {},
     "output_type": "execute_result"
    }
   ],
   "source": [
    "evaluation()"
   ]
  },
  {
   "cell_type": "code",
   "execution_count": null,
   "id": "3828dd2c-d959-4fc1-a2cd-1c1df935efc4",
   "metadata": {},
   "outputs": [],
   "source": []
  }
 ],
 "metadata": {
  "kernelspec": {
   "display_name": "Python 3 (ipykernel)",
   "language": "python",
   "name": "python3"
  },
  "language_info": {
   "codemirror_mode": {
    "name": "ipython",
    "version": 3
   },
   "file_extension": ".py",
   "mimetype": "text/x-python",
   "name": "python",
   "nbconvert_exporter": "python",
   "pygments_lexer": "ipython3",
   "version": "3.7.10"
  }
 },
 "nbformat": 4,
 "nbformat_minor": 5
}
